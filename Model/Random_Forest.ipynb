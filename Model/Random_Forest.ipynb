{
 "cells": [
  {
   "cell_type": "code",
   "execution_count": 4,
   "metadata": {},
   "outputs": [],
   "source": [
    "#^^^^^^^^^^^^^^^^^^^^^^^^^^^^^^^^^^^^^^^^^^\n",
    "# Name: Jonah Zembower\n",
    "# Date: March 11, 2025\n",
    "# Project: EY Data Science Challenge 2025\n",
    "#^^^^^^^^^^^^^^^^^^^^^^^^^^^^^^^^^^^^^^^^^^"
   ]
  },
  {
   "cell_type": "markdown",
   "metadata": {},
   "source": [
    "# Introduction:"
   ]
  },
  {
   "cell_type": "markdown",
   "metadata": {},
   "source": [
    "The model was not accurate for the neural network to what we had hoped. There were better results seen in the random forest method while developing feature importance. That is what we go in depth here. "
   ]
  },
  {
   "cell_type": "markdown",
   "metadata": {},
   "source": [
    "# Libraries and Data:"
   ]
  },
  {
   "cell_type": "markdown",
   "metadata": {},
   "source": [
    "Importing necessary libraries:"
   ]
  },
  {
   "cell_type": "code",
   "execution_count": 2,
   "metadata": {},
   "outputs": [],
   "source": [
    "# Supress Warnings \n",
    "import warnings\n",
    "warnings.filterwarnings('ignore')\n",
    "\n",
    "# Import common libraries\n",
    "import numpy as np\n",
    "import pandas as pd\n",
    "import matplotlib.pyplot as plt\n",
    "\n",
    "# For the geodataframe\n",
    "import geopandas as gpd\n",
    "from shapely import wkt\n",
    "from scipy.spatial import cKDTree\n",
    "\n",
    "# Random forest libraries:\n",
    "from sklearn.model_selection import train_test_split\n",
    "from sklearn.preprocessing import StandardScaler\n",
    "from sklearn.ensemble import RandomForestRegressor\n",
    "from scipy.spatial import cKDTree\n",
    "from sklearn.metrics import mean_absolute_error, mean_squared_error\n",
    "from sklearn.model_selection import RandomizedSearchCV"
   ]
  },
  {
   "cell_type": "markdown",
   "metadata": {},
   "source": [
    "Importing datasets:"
   ]
  },
  {
   "cell_type": "code",
   "execution_count": 3,
   "metadata": {},
   "outputs": [],
   "source": [
    "# Satellite Data:\n",
    "all_bands_granular = pd.read_csv(\"C:\\\\Users\\\\jrzem\\\\OneDrive\\\\Desktop\\\\EY Dataset\\\\Satellite Data\\\\all_bands_granular.csv\")\n",
    "all_bands_noisy_proximity = pd.read_csv(\"C:\\\\Users\\\\jrzem\\\\OneDrive\\\\Desktop\\\\EY Dataset\\\\Satellite Data\\\\all_bands_noisy_proximity.csv\")\n",
    "all_bands_proximity_noisy = pd.read_csv(\"C:\\\\Users\\\\jrzem\\\\OneDrive\\\\Desktop\\\\EY Dataset\\\\Satellite Data\\\\all_bands_proximity_noisy.csv\")\n",
    "all_bands_proximity_rounded_3 = pd.read_csv(\"C:\\\\Users\\\\jrzem\\\\OneDrive\\\\Desktop\\\\EY Dataset\\\\Satellite Data\\\\all_bands_proximity_rounded_3.csv\")\n",
    "all_bands_proximity_rounded_3_mapped = pd.read_csv(\"C:\\\\Users\\\\jrzem\\\\OneDrive\\\\Desktop\\\\EY Dataset\\\\Satellite Data\\\\all_bands_proximity_rounded_3_mapped.csv\")\n",
    "indices_granular = pd.read_csv(\"C:\\\\Users\\\\jrzem\\\\OneDrive\\\\Desktop\\\\EY Dataset\\\\Satellite Data\\\\indices_granular.csv\")\n",
    "landsat_thermal_granular = pd.read_csv(\"C:\\\\Users\\\\jrzem\\\\OneDrive\\\\Desktop\\\\EY Dataset\\\\Satellite Data\\\\landsat_thermal_granular.csv\")\n",
    "noisy_long_lat_uhi = pd.read_csv(\"C:\\\\Users\\\\jrzem\\\\OneDrive\\\\Desktop\\\\EY Dataset\\\\Satellite Data\\\\noisy_long_lat_uhi.csv\")"
   ]
  },
  {
   "cell_type": "code",
   "execution_count": 4,
   "metadata": {},
   "outputs": [],
   "source": [
    "# Elevation Data:\n",
    "all_elevation_nyc = pd.read_csv(\"C:\\\\Users\\\\jrzem\\OneDrive\\\\Desktop\\\\EY Dataset\\\\Elevation\\\\all_elevation_nyc.csv\")"
   ]
  },
  {
   "cell_type": "code",
   "execution_count": 20,
   "metadata": {},
   "outputs": [],
   "source": [
    "# Cluster files\n",
    "roadbed_clusters = pd.read_csv(\"C:\\\\Users\\\\jrzem\\\\OneDrive\\\\Desktop\\\\EY Dataset\\\\Planimetric Database\\\\Roadbed_Coord_Clusters.csv\")\n",
    "elevation_clusters = pd.read_csv(\"C:\\\\Users\\\\jrzem\\\\OneDrive\\\\Desktop\\\\EY Dataset\\\\Planimetric Database\\\\Elevation_Clusters.csv\")\n",
    "shoreline_clusters = pd.read_csv(\"C:\\\\Users\\\\jrzem\\\\OneDrive\\\\Desktop\\\\EY Dataset\\\\Planimetric Database\\\\Shoreline_Clusters.csv\")\n",
    "park_clusters = pd.read_csv(\"C:\\\\Users\\\\jrzem\\\\OneDrive\\\\Desktop\\\\EY Dataset\\\\Planimetric Database\\\\Park_Clusters.csv\")"
   ]
  },
  {
   "cell_type": "code",
   "execution_count": 6,
   "metadata": {},
   "outputs": [],
   "source": [
    "# Load the test data\n",
    "test_data = pd.read_csv(\"C:\\\\Users\\\\jrzem\\\\OneDrive\\\\Desktop\\\\EY Dataset\\\\Submission_template.csv\")"
   ]
  },
  {
   "cell_type": "markdown",
   "metadata": {},
   "source": [
    "# Random Forest Models:"
   ]
  },
  {
   "cell_type": "markdown",
   "metadata": {},
   "source": [
    "1. sentinel (BO1, BO6 proximity) and elevation (building height only and natural elevation proximity)\n",
    "2. Use the same features while also calculating the instances of shoreline, buildings, roadbeds, parks, etc. in a cluster of instances.\n",
    "3. Compute the indexes for this model.\n",
    "4. Showcase the economic data."
   ]
  },
  {
   "cell_type": "markdown",
   "metadata": {},
   "source": [
    "### Model 1:"
   ]
  },
  {
   "cell_type": "code",
   "execution_count": 9,
   "metadata": {},
   "outputs": [],
   "source": [
    "# Add the landsat_thermal_granular data to the all_bands_proximity_rounded_3_mapped data\n",
    "all_bands_elevation_2 = all_bands_proximity_rounded_3_mapped.merge(all_elevation_nyc[['Longitude', 'Latitude', 'Building Height Only Proximity','Natural Proximity']], on=['Longitude', 'Latitude'])\n",
    "all_bands_elevation_2\n",
    "\n",
    "# Save to CSV\n",
    "all_bands_elevation_2.to_csv(\"C:\\\\Users\\\\jrzem\\\\OneDrive\\\\Desktop\\\\EY Dataset\\\\Satellite Data\\\\all_bands_elevation_2.csv\", index=False)\n",
    "\n",
    "# Load dataset\n",
    "all_bands_elevation_2 = pd.read_csv(\"C:\\\\Users\\\\jrzem\\\\OneDrive\\\\Desktop\\\\EY Dataset\\\\Satellite Data\\\\all_bands_elevation_2.csv\")"
   ]
  },
  {
   "cell_type": "code",
   "execution_count": 12,
   "metadata": {},
   "outputs": [],
   "source": [
    "# Load dataset\n",
    "df = all_bands_elevation_2.copy()\n",
    "\n",
    "# Define spectral features\n",
    "spectral_features = ['BO1', 'BO6', 'Building Height Only Proximity','Natural Proximity']\n",
    "\n",
    "# Select features and target\n",
    "X = df[spectral_features]\n",
    "y = df['UHI Index']\n",
    "\n",
    "# Train-test split (80-20)\n",
    "X_train, X_test, y_train, y_test = train_test_split(X, y, test_size=0.2, random_state=42)\n",
    "\n",
    "# Standardization (Not necessary for Random Forest but kept for consistency)\n",
    "scaler = StandardScaler()\n",
    "X_train_scaled = scaler.fit_transform(X_train)\n",
    "X_test_scaled = scaler.transform(X_test)"
   ]
  },
  {
   "cell_type": "code",
   "execution_count": 14,
   "metadata": {},
   "outputs": [
    {
     "name": "stdout",
     "output_type": "stream",
     "text": [
      "Model Performance:\n",
      " - MAE: 0.0033\n",
      " - RMSE: 0.0047\n"
     ]
    }
   ],
   "source": [
    "# Initialize and train Random Forest Regressor\n",
    "rf_model = RandomForestRegressor(n_estimators=100, random_state=42, n_jobs=-1)\n",
    "rf_model.fit(X_train_scaled, y_train)\n",
    "\n",
    "# Evaluate model performance\n",
    "y_pred = rf_model.predict(X_test_scaled)\n",
    "mae = mean_absolute_error(y_test, y_pred)\n",
    "rmse = np.sqrt(mean_squared_error(y_test, y_pred))\n",
    "\n",
    "print(f\"Model Performance:\\n - MAE: {mae:.4f}\\n - RMSE: {rmse:.4f}\")\n"
   ]
  },
  {
   "cell_type": "code",
   "execution_count": 21,
   "metadata": {},
   "outputs": [
    {
     "name": "stdout",
     "output_type": "stream",
     "text": [
      "Fitting 3 folds for each of 10 candidates, totalling 30 fits\n",
      "Optimized Model Performance:\n",
      " - MAE: 0.0033\n",
      " - RMSE: 0.0047\n",
      "OOB Score: 0.9183127402317672\n"
     ]
    }
   ],
   "source": [
    "# Define the parameter grid for hyperparameter tuning\n",
    "param_dist = {\n",
    "    'n_estimators': [100, 300, 500],\n",
    "    'max_depth': [10, 20, 30, None],\n",
    "    'min_samples_split': [2, 5, 10],\n",
    "    'min_samples_leaf': [1, 2, 4]\n",
    "}\n",
    "\n",
    "# Initialize Random Forest Regressor\n",
    "rf = RandomForestRegressor(random_state=42, n_jobs=-1)\n",
    "\n",
    "# Perform Randomized Search for hyperparameter tuning\n",
    "random_search = RandomizedSearchCV(\n",
    "    estimator=rf, param_distributions=param_dist,\n",
    "    n_iter=10, cv=3, scoring='neg_mean_absolute_error',\n",
    "    verbose=2, random_state=42, n_jobs=-1\n",
    ")\n",
    "random_search.fit(X_train_scaled, y_train)\n",
    "\n",
    "# Get the best model from hyperparameter tuning\n",
    "best_rf_model = random_search.best_estimator_\n",
    "\n",
    "# Enable Out-of-Bag (OOB) Score for validation\n",
    "best_rf_model.set_params(oob_score=True)\n",
    "best_rf_model.fit(X_train_scaled, y_train)\n",
    "\n",
    "# Evaluate model on the test set\n",
    "y_pred = best_rf_model.predict(X_test_scaled)\n",
    "mae = mean_absolute_error(y_test, y_pred)\n",
    "rmse = np.sqrt(mean_squared_error(y_test, y_pred))\n",
    "\n",
    "# Print evaluation results\n",
    "print(f\"Optimized Model Performance:\\n - MAE: {mae:.4f}\\n - RMSE: {rmse:.4f}\")\n",
    "print(f\"OOB Score: {best_rf_model.oob_score_}\")\n"
   ]
  },
  {
   "cell_type": "markdown",
   "metadata": {},
   "source": [
    "The Hyperparameter tuning showcases the model is already performing well, and there is no need to update it. "
   ]
  },
  {
   "cell_type": "code",
   "execution_count": 15,
   "metadata": {},
   "outputs": [],
   "source": [
    "def add_nearest_data(uhi_data: pd.DataFrame, data_to_map: pd.DataFrame) -> pd.DataFrame:\n",
    "    \"\"\"\n",
    "    Adds nearest spectral data to submission dataset using KDTree.\n",
    "\n",
    "    Parameters:\n",
    "        uhi_data (pd.DataFrame): DataFrame containing submission locations (Latitude, Longitude).\n",
    "        data_to_map (pd.DataFrame): DataFrame containing spectral band values.\n",
    "\n",
    "    Returns:\n",
    "        pd.DataFrame: Submission dataset with matched spectral data.\n",
    "    \"\"\"\n",
    "    # Extract coordinates\n",
    "    elevation_coords = np.array(list(zip(data_to_map[\"Latitude\"], data_to_map[\"Longitude\"])))\n",
    "    uhi_coords = np.array(list(zip(uhi_data[\"Latitude\"], uhi_data[\"Longitude\"])))\n",
    "    \n",
    "    # Build KDTree\n",
    "    tree = cKDTree(elevation_coords)\n",
    "    \n",
    "    # Find nearest neighbors\n",
    "    _, indices = tree.query(uhi_coords)\n",
    "    \n",
    "    # Add matched spectral data\n",
    "    uhi_data = uhi_data.copy()\n",
    "    for col in spectral_features:\n",
    "        uhi_data[col] = data_to_map.iloc[indices][col].values\n",
    "    \n",
    "    return uhi_data\n",
    "\n",
    "# Match spectral features for submission data\n",
    "submission_all_bands_elevation = add_nearest_data(test_data, all_bands_elevation_2)\n"
   ]
  },
  {
   "cell_type": "code",
   "execution_count": 16,
   "metadata": {},
   "outputs": [],
   "source": [
    "# Prepare submission data for prediction\n",
    "x_submission_test = submission_all_bands_elevation[spectral_features]\n",
    "\n",
    "# Standardize submission data using the same scaler\n",
    "x_submission_test_scaled = scaler.transform(x_submission_test)\n",
    "\n",
    "# Make predictions\n",
    "submission_predictions = rf_model.predict(x_submission_test_scaled)\n",
    "\n",
    "# Add predictions to submission DataFrame\n",
    "submission_all_bands_elevation[\"UHI Index\"] = submission_predictions"
   ]
  },
  {
   "cell_type": "code",
   "execution_count": 17,
   "metadata": {},
   "outputs": [
    {
     "data": {
      "image/png": "[encoded data removed]",
      "text/plain": [
       "<Figure size 1000x600 with 1 Axes>"
      ]
     },
     "metadata": {},
     "output_type": "display_data"
    },
    {
     "data": {
      "image/png": "[encoded data removed]",
      "text/plain": [
       "<Figure size 1000x600 with 1 Axes>"
      ]
     },
     "metadata": {},
     "output_type": "display_data"
    }
   ],
   "source": [
    "# Plot predictions\n",
    "plt.figure(figsize=(10, 6))\n",
    "plt.hist(submission_predictions, bins=50, color='skyblue', edgecolor='black')\n",
    "plt.xlabel('Predicted UHI Index')\n",
    "plt.ylabel('Frequency')\n",
    "plt.title('Predicted UHI Index Distribution')\n",
    "plt.show()\n",
    "\n",
    "# Plot Residuals\n",
    "plt.figure(figsize=(10, 6))\n",
    "plt.hist(y_test - y_pred, bins=50, color='skyblue', edgecolor='black')\n",
    "plt.xlabel('Residuals')\n",
    "plt.ylabel('Frequency')\n",
    "plt.title('Residuals Distribution')\n",
    "plt.show()\n"
   ]
  },
  {
   "cell_type": "code",
   "execution_count": 19,
   "metadata": {},
   "outputs": [
    {
     "data": {
      "image/png": "[encoded data removed]",
      "text/plain": [
       "<Figure size 1000x600 with 1 Axes>"
      ]
     },
     "metadata": {},
     "output_type": "display_data"
    }
   ],
   "source": [
    "# Get feature importances\n",
    "importances = rf_model.feature_importances_\n",
    "\n",
    "# Create a DataFrame for better visualization\n",
    "feature_importance_df = pd.DataFrame({\n",
    "    'Feature': spectral_features,\n",
    "    'Importance': importances\n",
    "})\n",
    "\n",
    "# Sort the DataFrame by importance\n",
    "feature_importance_df = feature_importance_df.sort_values(by='Importance', ascending=False)\n",
    "\n",
    "# Plot feature importances\n",
    "plt.figure(figsize=(10, 6))\n",
    "plt.barh(feature_importance_df['Feature'], feature_importance_df['Importance'], color='skyblue')\n",
    "plt.xlabel('Importance')\n",
    "plt.ylabel('Feature')\n",
    "plt.title('Feature Importance for Random Forest Model')\n",
    "plt.gca().invert_yaxis()\n",
    "plt.show()"
   ]
  },
  {
   "cell_type": "code",
   "execution_count": 18,
   "metadata": {},
   "outputs": [],
   "source": [
    "# Load the final submission\n",
    "submission_all_bands_elevation_final = submission_all_bands_elevation[['Longitude', 'Latitude', 'UHI Index']]\n",
    "submission_all_bands_elevation_final.to_csv(\"C:\\\\Users\\\\jrzem\\\\Downloads\\\\submission_all_bands_elevation.csv\", index=False)"
   ]
  },
  {
   "cell_type": "markdown",
   "metadata": {},
   "source": [
    "This model was 0.9243. This will be one of our best scores and best predicting models. We will look at some other factors as well soon."
   ]
  },
  {
   "cell_type": "markdown",
   "metadata": {},
   "source": [
    "### Model 2:"
   ]
  },
  {
   "cell_type": "markdown",
   "metadata": {},
   "source": [
    "Calculate the instances of shoreline, building, and other data in a given region through clusters."
   ]
  },
  {
   "cell_type": "markdown",
   "metadata": {},
   "source": [
    "### Model 3:"
   ]
  },
  {
   "cell_type": "markdown",
   "metadata": {},
   "source": [
    "Look at the indexes and their values."
   ]
  },
  {
   "cell_type": "markdown",
   "metadata": {},
   "source": [
    "### Model 4:"
   ]
  },
  {
   "cell_type": "markdown",
   "metadata": {},
   "source": [
    "Showcase the economic differences for the area. "
   ]
  },
  {
   "cell_type": "markdown",
   "metadata": {},
   "source": [
    "# Conclusion:"
   ]
  }
 ],
 "metadata": {
  "kernelspec": {
   "display_name": ".venv",
   "language": "python",
   "name": "python3"
  },
  "language_info": {
   "codemirror_mode": {
    "name": "ipython",
    "version": 3
   },
   "file_extension": ".py",
   "mimetype": "text/x-python",
   "name": "python",
   "nbconvert_exporter": "python",
   "pygments_lexer": "ipython3",
   "version": "3.12.9"
  }
 },
 "nbformat": 4,
 "nbformat_minor": 2
}
