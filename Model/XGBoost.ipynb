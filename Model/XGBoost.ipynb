{
 "cells": [
  {
   "cell_type": "code",
   "execution_count": 4,
   "metadata": {},
   "outputs": [],
   "source": [
    "#^^^^^^^^^^^^^^^^^^^^^^^^^^^^^^^^^^^^^^^^^^\n",
    "# Name: Jonah Zembower\n",
    "# Date: March 11, 2025\n",
    "# Project: EY 2025 Data Science Challenge\n",
    "#^^^^^^^^^^^^^^^^^^^^^^^^^^^^^^^^^^^^^^^^^^"
   ]
  },
  {
   "cell_type": "markdown",
   "metadata": {},
   "source": [
    "# Introduction:"
   ]
  },
  {
   "cell_type": "markdown",
   "metadata": {},
   "source": [
    "The model was accurate for random forest regressor, but we also want to try XGBoost. It may outperform the random forest potentially."
   ]
  },
  {
   "cell_type": "markdown",
   "metadata": {},
   "source": [
    "# Libraries and Data:"
   ]
  },
  {
   "cell_type": "markdown",
   "metadata": {},
   "source": [
    "Importing Necessary Libraries:"
   ]
  },
  {
   "cell_type": "code",
   "execution_count": 11,
   "metadata": {},
   "outputs": [],
   "source": [
    "# Supress Warnings \n",
    "import warnings\n",
    "warnings.filterwarnings('ignore')\n",
    "\n",
    "# Import common libraries\n",
    "import numpy as np\n",
    "import pandas as pd\n",
    "import matplotlib.pyplot as plt\n",
    "\n",
    "# For the geodataframe\n",
    "import geopandas as gpd\n",
    "from shapely import wkt\n",
    "from scipy.spatial import cKDTree\n",
    "\n",
    "# XGBoost Libraries\n",
    "import xgboost as xgb\n",
    "from xgboost import XGBRegressor\n",
    "from sklearn.model_selection import train_test_split\n",
    "from sklearn.preprocessing import StandardScaler\n",
    "from scipy.spatial import cKDTree\n",
    "from sklearn.metrics import mean_absolute_error, mean_squared_error"
   ]
  },
  {
   "cell_type": "markdown",
   "metadata": {},
   "source": [
    "Importing data:"
   ]
  },
  {
   "cell_type": "code",
   "execution_count": 6,
   "metadata": {},
   "outputs": [],
   "source": [
    "# Satellite Data:\n",
    "all_bands_granular = pd.read_csv(\"C:\\\\Users\\\\jrzem\\\\OneDrive\\\\Desktop\\\\EY Dataset\\\\Satellite Data\\\\all_bands_granular.csv\")\n",
    "all_bands_noisy_proximity = pd.read_csv(\"C:\\\\Users\\\\jrzem\\\\OneDrive\\\\Desktop\\\\EY Dataset\\\\Satellite Data\\\\all_bands_noisy_proximity.csv\")\n",
    "all_bands_proximity_noisy = pd.read_csv(\"C:\\\\Users\\\\jrzem\\\\OneDrive\\\\Desktop\\\\EY Dataset\\\\Satellite Data\\\\all_bands_proximity_noisy.csv\")\n",
    "all_bands_proximity_rounded_3 = pd.read_csv(\"C:\\\\Users\\\\jrzem\\\\OneDrive\\\\Desktop\\\\EY Dataset\\\\Satellite Data\\\\all_bands_proximity_rounded_3.csv\")\n",
    "all_bands_proximity_rounded_3_mapped = pd.read_csv(\"C:\\\\Users\\\\jrzem\\\\OneDrive\\\\Desktop\\\\EY Dataset\\\\Satellite Data\\\\all_bands_proximity_rounded_3_mapped.csv\")\n",
    "indices_granular = pd.read_csv(\"C:\\\\Users\\\\jrzem\\\\OneDrive\\\\Desktop\\\\EY Dataset\\\\Satellite Data\\\\indices_granular.csv\")\n",
    "landsat_thermal_granular = pd.read_csv(\"C:\\\\Users\\\\jrzem\\\\OneDrive\\\\Desktop\\\\EY Dataset\\\\Satellite Data\\\\landsat_thermal_granular.csv\")\n",
    "noisy_long_lat_uhi = pd.read_csv(\"C:\\\\Users\\\\jrzem\\\\OneDrive\\\\Desktop\\\\EY Dataset\\\\Satellite Data\\\\noisy_long_lat_uhi.csv\")"
   ]
  },
  {
   "cell_type": "code",
   "execution_count": 7,
   "metadata": {},
   "outputs": [],
   "source": [
    "# Elevation Data:\n",
    "all_elevation_nyc = pd.read_csv(\"C:\\\\Users\\\\jrzem\\OneDrive\\\\Desktop\\\\EY Dataset\\\\Elevation\\\\all_elevation_nyc.csv\")"
   ]
  },
  {
   "cell_type": "code",
   "execution_count": 8,
   "metadata": {},
   "outputs": [],
   "source": [
    "# Load the test data\n",
    "test_data = pd.read_csv(\"C:\\\\Users\\\\jrzem\\\\OneDrive\\\\Desktop\\\\EY Dataset\\\\Submission_template.csv\")"
   ]
  },
  {
   "cell_type": "markdown",
   "metadata": {},
   "source": [
    "# XGBoost Model:"
   ]
  },
  {
   "cell_type": "markdown",
   "metadata": {},
   "source": [
    "1. sentinel (BO1, BO6 proximity) and elevation (building height only and natural elevation proximity)"
   ]
  },
  {
   "cell_type": "markdown",
   "metadata": {},
   "source": [
    "### Model 1:"
   ]
  },
  {
   "cell_type": "code",
   "execution_count": 43,
   "metadata": {},
   "outputs": [],
   "source": [
    "# Add the landsat_thermal_granular data to the all_bands_proximity_rounded_3_mapped data\n",
    "all_bands_elevation_2 = all_bands_proximity_rounded_3_mapped.merge(all_elevation_nyc[['Longitude', 'Latitude', 'Building Height Only Proximity','Natural Proximity']], on=['Longitude', 'Latitude'])\n",
    "all_bands_elevation_2\n",
    "\n",
    "# Save to CSV\n",
    "all_bands_elevation_2.to_csv(\"C:\\\\Users\\\\jrzem\\\\OneDrive\\\\Desktop\\\\EY Dataset\\\\Satellite Data\\\\all_bands_elevation_2.csv\", index=False)\n",
    "\n",
    "# Load dataset\n",
    "all_bands_elevation_2 = pd.read_csv(\"C:\\\\Users\\\\jrzem\\\\OneDrive\\\\Desktop\\\\EY Dataset\\\\Satellite Data\\\\all_bands_elevation_2.csv\")"
   ]
  },
  {
   "cell_type": "code",
   "execution_count": 44,
   "metadata": {},
   "outputs": [],
   "source": [
    "# Load dataset\n",
    "df = all_bands_elevation_2.copy()\n",
    "\n",
    "# Define spectral features\n",
    "spectral_features = ['BO1', 'BO6', 'Building Height Only Proximity','Natural Proximity']\n",
    "\n",
    "# Select features and target\n",
    "X = df[spectral_features]\n",
    "y = df['UHI Index']\n",
    "\n",
    "# Train-test split (80-20)\n",
    "X_train, X_test, y_train, y_test = train_test_split(X, y, test_size=0.2, random_state=42)\n",
    "\n",
    "# Standardization (Not necessary for Random Forest but kept for consistency)\n",
    "scaler = StandardScaler()\n",
    "X_train_scaled = scaler.fit_transform(X_train)\n",
    "X_test_scaled = scaler.transform(X_test)"
   ]
  },
  {
   "cell_type": "code",
   "execution_count": 45,
   "metadata": {},
   "outputs": [],
   "source": [
    "# Initialize XGBoost Regressor\n",
    "xgb_model = XGBRegressor(\n",
    "    n_estimators=300,    # Number of boosting rounds (trees)\n",
    "    max_depth=6,         # Maximum tree depth (controls overfitting)\n",
    "    learning_rate=0.05,  # Step size shrinkage (lowers overfitting risk)\n",
    "    subsample=0.8,       # Random fraction of data per tree (prevents overfitting)\n",
    "    colsample_bytree=0.8,# Random fraction of features per tree (avoids redundancy)\n",
    "    reg_lambda=1,        # L2 regularization (Ridge penalty)\n",
    "    reg_alpha=0.1,       # L1 regularization (Lasso penalty)\n",
    "    random_state=42,\n",
    "    n_jobs=-1  # Utilize all CPU cores\n",
    ")\n"
   ]
  },
  {
   "cell_type": "code",
   "execution_count": 46,
   "metadata": {},
   "outputs": [
    {
     "name": "stdout",
     "output_type": "stream",
     "text": [
      "XGBoost Model Performance:\n",
      " - MAE: 0.0053\n",
      " - RMSE: 0.0068\n"
     ]
    }
   ],
   "source": [
    "# Train the model\n",
    "xgb_model.fit(X_train_scaled, y_train)\n",
    "\n",
    "# Make predictions\n",
    "y_pred = xgb_model.predict(X_test_scaled)\n",
    "\n",
    "# Evaluate performance\n",
    "mae = mean_absolute_error(y_test, y_pred)\n",
    "rmse = np.sqrt(mean_squared_error(y_test, y_pred))\n",
    "\n",
    "print(f\"XGBoost Model Performance:\\n - MAE: {mae:.4f}\\n - RMSE: {rmse:.4f}\")\n"
   ]
  },
  {
   "cell_type": "code",
   "execution_count": 52,
   "metadata": {},
   "outputs": [
    {
     "name": "stdout",
     "output_type": "stream",
     "text": [
      "Fitting 3 folds for each of 2187 candidates, totalling 6561 fits\n",
      "Best Parameters: {'colsample_bytree': 1.0, 'learning_rate': 0.1, 'max_depth': 9, 'n_estimators': 300, 'reg_alpha': 0.01, 'reg_lambda': 0.1, 'subsample': 0.6}\n"
     ]
    }
   ],
   "source": [
    "from sklearn.model_selection import GridSearchCV\n",
    "\n",
    "# Define the parameter grid\n",
    "param_grid = {\n",
    "    'n_estimators': [100, 200, 300],\n",
    "    'max_depth': [3, 6, 9],\n",
    "    'learning_rate': [0.01, 0.05, 0.1],\n",
    "    'subsample': [0.6, 0.8, 1.0],\n",
    "    'colsample_bytree': [0.6, 0.8, 1.0],\n",
    "    'reg_lambda': [0.1, 1, 10],\n",
    "    'reg_alpha': [0.01, 0.1, 1]\n",
    "}\n",
    "\n",
    "# Initialize the XGBoost Regressor\n",
    "xgb_model = XGBRegressor(random_state=42, n_jobs=-1)\n",
    "\n",
    "# Initialize GridSearchCV\n",
    "grid_search = GridSearchCV(estimator=xgb_model, param_grid=param_grid, cv=3, scoring='neg_mean_absolute_error', verbose=1, n_jobs=-1)\n",
    "\n",
    "# Fit GridSearchCV\n",
    "grid_search.fit(X_train_scaled, y_train)\n",
    "\n",
    "# Get the best parameters and the best model\n",
    "best_params = grid_search.best_params_\n",
    "best_model = grid_search.best_estimator_\n",
    "\n",
    "print(f\"Best Parameters: {best_params}\")"
   ]
  },
  {
   "cell_type": "code",
   "execution_count": 58,
   "metadata": {},
   "outputs": [],
   "source": [
    "# Initialize XGBoost Regressor\n",
    "best_xgb_model = XGBRegressor(\n",
    "    n_estimators=300,    # Number of boosting rounds (trees)\n",
    "    max_depth=9,         # Maximum tree depth (controls overfitting)\n",
    "    learning_rate=0.1,  # Step size shrinkage (lowers overfitting risk)\n",
    "    subsample=0.6,       # Random fraction of data per tree (prevents overfitting)\n",
    "    colsample_bytree=1,# Random fraction of features per tree (avoids redundancy)\n",
    "    reg_lambda=0.1,        # L2 regularization (Ridge penalty)\n",
    "    reg_alpha=0.01,       # L1 regularization (Lasso penalty)\n",
    "    random_state=42,\n",
    "    n_jobs=-1  # Utilize all CPU cores\n",
    ")"
   ]
  },
  {
   "cell_type": "code",
   "execution_count": 59,
   "metadata": {},
   "outputs": [
    {
     "name": "stdout",
     "output_type": "stream",
     "text": [
      "XGBoost Model Performance:\n",
      " - MAE: 0.0033\n",
      " - RMSE: 0.0047\n"
     ]
    }
   ],
   "source": [
    "# Train the model\n",
    "best_xgb_model.fit(X_train_scaled, y_train)\n",
    "\n",
    "# Make predictions\n",
    "y_pred = best_xgb_model.predict(X_test_scaled)\n",
    "\n",
    "# Evaluate performance\n",
    "mae = mean_absolute_error(y_test, y_pred)\n",
    "rmse = np.sqrt(mean_squared_error(y_test, y_pred))\n",
    "\n",
    "print(f\"XGBoost Model Performance:\\n - MAE: {mae:.4f}\\n - RMSE: {rmse:.4f}\")"
   ]
  },
  {
   "cell_type": "code",
   "execution_count": 47,
   "metadata": {},
   "outputs": [],
   "source": [
    "def add_nearest_data(uhi_data: pd.DataFrame, data_to_map: pd.DataFrame) -> pd.DataFrame:\n",
    "    \"\"\"\n",
    "    Adds nearest spectral data to submission dataset using KDTree.\n",
    "\n",
    "    Parameters:\n",
    "        uhi_data (pd.DataFrame): DataFrame containing submission locations (Latitude, Longitude).\n",
    "        data_to_map (pd.DataFrame): DataFrame containing spectral band values.\n",
    "\n",
    "    Returns:\n",
    "        pd.DataFrame: Submission dataset with matched spectral data.\n",
    "    \"\"\"\n",
    "    # Extract coordinates\n",
    "    elevation_coords = np.array(list(zip(data_to_map[\"Latitude\"], data_to_map[\"Longitude\"])))\n",
    "    uhi_coords = np.array(list(zip(uhi_data[\"Latitude\"], uhi_data[\"Longitude\"])))\n",
    "    \n",
    "    # Build KDTree\n",
    "    tree = cKDTree(elevation_coords)\n",
    "    \n",
    "    # Find nearest neighbors\n",
    "    _, indices = tree.query(uhi_coords)\n",
    "    \n",
    "    # Add matched spectral data\n",
    "    uhi_data = uhi_data.copy()\n",
    "    for col in spectral_features:\n",
    "        uhi_data[col] = data_to_map.iloc[indices][col].values\n",
    "    \n",
    "    return uhi_data\n",
    "\n",
    "# Match spectral features for submission data\n",
    "submission_all_bands_elevation = add_nearest_data(test_data, all_bands_elevation_2)\n"
   ]
  },
  {
   "cell_type": "code",
   "execution_count": 60,
   "metadata": {},
   "outputs": [],
   "source": [
    "# Prepare submission data for prediction\n",
    "x_submission_test = submission_all_bands_elevation[spectral_features]\n",
    "\n",
    "# Standardize submission data using the same scaler\n",
    "x_submission_test_scaled = scaler.transform(x_submission_test)\n",
    "\n",
    "# Make predictions\n",
    "submission_predictions = best_xgb_model.predict(x_submission_test_scaled)\n",
    "\n",
    "# Add predictions to submission DataFrame\n",
    "submission_all_bands_elevation[\"UHI Index\"] = submission_predictions\n"
   ]
  },
  {
   "cell_type": "code",
   "execution_count": 61,
   "metadata": {},
   "outputs": [
    {
     "data": {
      "image/png": "[encoded data removed]",
      "text/plain": [
       "<Figure size 1000x600 with 1 Axes>"
      ]
     },
     "metadata": {},
     "output_type": "display_data"
    },
    {
     "data": {
      "image/png": "[encoded data removed]",
      "text/plain": [
       "<Figure size 1000x600 with 1 Axes>"
      ]
     },
     "metadata": {},
     "output_type": "display_data"
    }
   ],
   "source": [
    "# Plot predictions\n",
    "plt.figure(figsize=(10, 6))\n",
    "plt.hist(submission_predictions, bins=50, color='skyblue', edgecolor='black')\n",
    "plt.xlabel('Predicted UHI Index')\n",
    "plt.ylabel('Frequency')\n",
    "plt.title('Predicted UHI Index Distribution')\n",
    "plt.show()\n",
    "\n",
    "# Plot Residuals\n",
    "plt.figure(figsize=(10, 6))\n",
    "plt.hist(y_test - y_pred, bins=50, color='skyblue', edgecolor='black')\n",
    "plt.xlabel('Residuals')\n",
    "plt.ylabel('Frequency')\n",
    "plt.title('Residuals Distribution')\n",
    "plt.show()"
   ]
  },
  {
   "cell_type": "code",
   "execution_count": 62,
   "metadata": {},
   "outputs": [
    {
     "data": {
      "image/png": "[encoded data removed]",
      "text/plain": [
       "<Figure size 1000x600 with 1 Axes>"
      ]
     },
     "metadata": {},
     "output_type": "display_data"
    }
   ],
   "source": [
    "# Get feature importances\n",
    "importances = best_xgb_model.feature_importances_\n",
    "\n",
    "# Create a DataFrame for better visualization\n",
    "feature_importance_df = pd.DataFrame({\n",
    "    'Feature': spectral_features,\n",
    "    'Importance': importances\n",
    "})\n",
    "\n",
    "# Sort the DataFrame by importance\n",
    "feature_importance_df = feature_importance_df.sort_values(by='Importance', ascending=False)\n",
    "\n",
    "# Plot feature importances\n",
    "plt.figure(figsize=(10, 6))\n",
    "plt.barh(feature_importance_df['Feature'], feature_importance_df['Importance'], color='skyblue')\n",
    "plt.xlabel('Importance')\n",
    "plt.ylabel('Feature')\n",
    "plt.title('Feature Importance for Random Forest Model')\n",
    "plt.gca().invert_yaxis()\n",
    "plt.show()"
   ]
  },
  {
   "cell_type": "code",
   "execution_count": 63,
   "metadata": {},
   "outputs": [],
   "source": [
    "# Load the final submission\n",
    "submission_all_bands_elevation_final = submission_all_bands_elevation[['Longitude', 'Latitude', 'UHI Index']]\n",
    "submission_all_bands_elevation_final.to_csv(\"C:\\\\Users\\\\jrzem\\\\Downloads\\\\submission_all_bands_elevation.csv\", index=False)"
   ]
  },
  {
   "cell_type": "markdown",
   "metadata": {},
   "source": [
    "This put out similar results to the random forest in the accuracy score. It was slightly better with 0.9254."
   ]
  },
  {
   "cell_type": "markdown",
   "metadata": {},
   "source": [
    "# Conclusion:"
   ]
  }
 ],
 "metadata": {
  "kernelspec": {
   "display_name": ".venv",
   "language": "python",
   "name": "python3"
  },
  "language_info": {
   "codemirror_mode": {
    "name": "ipython",
    "version": 3
   },
   "file_extension": ".py",
   "mimetype": "text/x-python",
   "name": "python",
   "nbconvert_exporter": "python",
   "pygments_lexer": "ipython3",
   "version": "3.12.9"
  }
 },
 "nbformat": 4,
 "nbformat_minor": 2
}
