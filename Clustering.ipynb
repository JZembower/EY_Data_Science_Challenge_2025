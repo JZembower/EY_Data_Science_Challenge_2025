{
 "cells": [
  {
   "cell_type": "markdown",
   "metadata": {},
   "source": [
    "# Loading Libraries and Data:"
   ]
  },
  {
   "cell_type": "markdown",
   "metadata": {},
   "source": [
    "Importing the necessary libraries:"
   ]
  },
  {
   "cell_type": "code",
   "execution_count": 50,
   "metadata": {},
   "outputs": [],
   "source": [
    "# Supress Warnings \n",
    "import warnings\n",
    "warnings.filterwarnings('ignore')\n",
    "\n",
    "# Import common GIS tools\n",
    "import numpy as np\n",
    "import pandas as pd\n",
    "import matplotlib.pyplot as plt\n",
    "\n",
    "# For the elevation data\n",
    "from scipy.spatial import cKDTree\n",
    "\n",
    "# For the geodataframe\n",
    "import geopandas as gpd\n",
    "from shapely import wkt"
   ]
  },
  {
   "cell_type": "markdown",
   "metadata": {},
   "source": [
    "Importing the necessary datasets:"
   ]
  },
  {
   "cell_type": "code",
   "execution_count": 51,
   "metadata": {},
   "outputs": [],
   "source": [
    "# Loading in the datasets regarding elevation, shoreline, and zip codes\n",
    "zip_code = pd.read_csv(\"C:\\\\Users\\\\jrzem\\\\OneDrive\\\\Desktop\\\\EY Dataset\\\\New York Open Source Data\\\\POST_OFFICE.csv\")\n",
    "shoreline = pd.read_csv(\"C:\\\\Users\\\\jrzem\\\\OneDrive\\\\Desktop\\\\EY Dataset\\\\New York Open Source Data\\\\NYC_Planimetric_Database__Shoreline_20250225.csv\")\n",
    "elevation = pd.read_csv('C:\\\\Users\\\\jrzem\\\\OneDrive\\\\Desktop\\\\EY Dataset\\\\New York Open Source Data\\\\Building_Elevation_and_Subgrade__BES__20250225.csv')\n",
    "elevation_2 = pd.read_csv(\"C:\\\\Users\\\\jrzem\\\\OneDrive\\\\Desktop\\\\EY Dataset\\\\NYC_Planimetric_Database__Elevation_Points_20250301.csv\")\n",
    "city_map = pd.read_csv(\"C:\\\\Users\\\\jrzem\\\\OneDrive\\\\Desktop\\\\EY Dataset\\\\New York Open Source Data\\\\DCM_StreetNameChanges_Points_20250225.csv\")"
   ]
  },
  {
   "cell_type": "code",
   "execution_count": 61,
   "metadata": {},
   "outputs": [],
   "source": [
    "# Loading in the socioeconomic data\n",
    "bronx_boroughs = pd.read_csv(\"C:\\\\Users\\\\jrzem\\\\OneDrive\\\\Desktop\\\\EY Dataset\\\\bronx_boroughs.csv\")\n",
    "manhattan_boroughs = pd.read_csv(\"C:\\\\Users\\\\jrzem\\\\OneDrive\\\\Desktop\\\\EY Dataset\\\\manhattan_boroughs.csv\")"
   ]
  },
  {
   "cell_type": "markdown",
   "metadata": {},
   "source": [
    "# Data Cleaning:"
   ]
  },
  {
   "cell_type": "markdown",
   "metadata": {},
   "source": [
    "### Geographic Data:"
   ]
  },
  {
   "cell_type": "markdown",
   "metadata": {},
   "source": [
    "Establishing the bounds for the data:"
   ]
  },
  {
   "cell_type": "code",
   "execution_count": 53,
   "metadata": {},
   "outputs": [],
   "source": [
    "# The region that is boudning the city into the bronx and manhattan locations\n",
    "lower_left = (40.75, -74.01)\n",
    "upper_right = (40.88, -73.86)\n",
    "# bounds = (min_lon, min_lat, max_lon, max_lat)\n",
    "bounds = (lower_left[1], lower_left[0], upper_right[1], upper_right[0])"
   ]
  },
  {
   "cell_type": "markdown",
   "metadata": {},
   "source": [
    "Filtering the data for the region that we are looking at:"
   ]
  },
  {
   "cell_type": "code",
   "execution_count": 54,
   "metadata": {},
   "outputs": [],
   "source": [
    "# Define the bounding box\n",
    "min_lat, min_lon = lower_left\n",
    "max_lat, max_lon = upper_right\n",
    "\n",
    "# Convert the_geom to a GeoDataFrame\n",
    "zip_code['geometry'] = zip_code['the_geom'].apply(wkt.loads)\n",
    "gdf_geometry = gpd.GeoDataFrame(zip_code, geometry='geometry')\n",
    "\n",
    "# Filter the zip_code data points within the bounding box\n",
    "filtered_zip_code = zip_code[\n",
    "    (zip_code['geometry'].apply(lambda geom: geom.y) >= min_lat) &\n",
    "    (zip_code['geometry'].apply(lambda geom: geom.y) <= max_lat) &\n",
    "    (zip_code['geometry'].apply(lambda geom: geom.x) >= min_lon) &\n",
    "    (zip_code['geometry'].apply(lambda geom: geom.x) <= max_lon)\n",
    "]\n",
    "\n",
    "# Convert the_geom to a GeoDataFrame\n",
    "shoreline['geometry'] = shoreline['the_geom'].apply(wkt.loads)\n",
    "gdf_geometry = gpd.GeoDataFrame(shoreline, geometry='geometry')\n",
    "\n",
    "# Filter the shoreline data points within the bounding box\n",
    "filtered_shoreline = shoreline[\n",
    "    (shoreline['geometry'].apply(lambda geom: geom.bounds[1]) >= min_lat) &\n",
    "    (shoreline['geometry'].apply(lambda geom: geom.bounds[3]) <= max_lat) &\n",
    "    (shoreline['geometry'].apply(lambda geom: geom.bounds[0]) >= min_lon) &\n",
    "    (shoreline['geometry'].apply(lambda geom: geom.bounds[2]) <= max_lon)\n",
    "]\n",
    "\n",
    "# Convert the elevation_2['Elevation'] column to meters instead of feet\n",
    "elevation['z_grade'] = elevation['z_grade'] * 0.328084\n",
    "\n",
    "# Convert the_geom to a GeoDataFrame\n",
    "elevation['geometry'] = elevation['the_geom'].apply(wkt.loads)\n",
    "gdf_geometry = gpd.GeoDataFrame(elevation, geometry='geometry')\n",
    "\n",
    "# Filter the elevation data points within the bounding box\n",
    "filtered_elevation = elevation[\n",
    "    (elevation['latitude'] >= min_lat) &\n",
    "    (elevation['latitude'] <= max_lat) &\n",
    "    (elevation['longitude'] >= min_lon) &\n",
    "    (elevation['longitude'] <= max_lon)\n",
    "]\n",
    "\n",
    "# Convert the_geom to a GeoDataFrame\n",
    "elevation_2['geometry'] = elevation_2['the_geom'].apply(wkt.loads)\n",
    "gdf_geometry = gpd.GeoDataFrame(elevation_2, geometry='geometry')\n",
    "\n",
    "# Filter the elevation_2 data points within the bounding box\n",
    "filtered_elevation_2 = elevation_2[\n",
    "    (elevation_2['geometry'].apply(lambda geom: geom.y) >= min_lat) &\n",
    "    (elevation_2['geometry'].apply(lambda geom: geom.y) <= max_lat) &\n",
    "    (elevation_2['geometry'].apply(lambda geom: geom.x) >= min_lon) &\n",
    "    (elevation_2['geometry'].apply(lambda geom: geom.x) <= max_lon)\n",
    "]\n",
    "\n",
    "# Convert the elevation_2['Elevation'] column to meters instead of feet\n",
    "filtered_elevation_2['ELEVATION'] = filtered_elevation_2['ELEVATION'] * 0.328084\n",
    "\n",
    "# Convert the_geom to a GeoDataFrame\n",
    "city_map['geometry'] = city_map['the_geom'].apply(wkt.loads)\n",
    "gdf_geometry = gpd.GeoDataFrame(city_map, geometry='geometry')\n",
    "\n",
    "# Filter the city_map data points within the bounding box\n",
    "filtered_city_map = city_map[\n",
    "    (city_map['geometry'].apply(lambda geom: geom.y) >= min_lat) &\n",
    "    (city_map['geometry'].apply(lambda geom: geom.y) <= max_lat) &\n",
    "    (city_map['geometry'].apply(lambda geom: geom.x) >= min_lon) &\n",
    "    (city_map['geometry'].apply(lambda geom: geom.x) <= max_lon)\n",
    "]"
   ]
  },
  {
   "cell_type": "markdown",
   "metadata": {},
   "source": [
    "Difference the elevation data appropriately from the z_grade and the total height from the planimetric data:"
   ]
  },
  {
   "cell_type": "code",
   "execution_count": 55,
   "metadata": {},
   "outputs": [
    {
     "data": {
      "application/vnd.microsoft.datawrangler.viewer.v0+json": {
       "columns": [
        {
         "name": "index",
         "rawType": "int64",
         "type": "integer"
        },
        {
         "name": "longitude",
         "rawType": "float64",
         "type": "float"
        },
        {
         "name": "latitude",
         "rawType": "float64",
         "type": "float"
        },
        {
         "name": "z_grade",
         "rawType": "float64",
         "type": "float"
        },
        {
         "name": "Total Elevation",
         "rawType": "float64",
         "type": "float"
        },
        {
         "name": "Actual Elevation",
         "rawType": "float64",
         "type": "float"
        },
        {
         "name": "Feat_Code",
         "rawType": "int64",
         "type": "integer"
        }
       ],
       "conversionMethod": "pd.DataFrame",
       "ref": "7a681a5d-6aed-4a9e-94f7-41b0010f5903",
       "rows": [
        [
         "25",
         "-73.93030954",
         "40.75433737",
         "13.840879708",
         "25.827323880936277",
         "11.986444172936277",
         "3020"
        ],
        [
         "26",
         "-73.9265556",
         "40.75611503",
         "14.684055587999998",
         "24.31852249407196",
         "9.634466906071962",
         "3020"
        ],
        [
         "29",
         "-73.94487656",
         "40.80982541",
         "8.923228631999999",
         "22.0874718518122",
         "13.164243219812201",
         "3020"
        ],
        [
         "30",
         "-73.94119794",
         "40.80867056",
         "7.995735163999999",
         "28.06649250258967",
         "20.070757338589672",
         "3020"
        ],
        [
         "33",
         "-73.91190559",
         "40.82251365",
         "9.902231288",
         "43.23552340453408",
         "33.33329211653408",
         "3020"
        ]
       ],
       "shape": {
        "columns": 6,
        "rows": 5
       }
      },
      "text/html": [
       "<div>\n",
       "<style scoped>\n",
       "    .dataframe tbody tr th:only-of-type {\n",
       "        vertical-align: middle;\n",
       "    }\n",
       "\n",
       "    .dataframe tbody tr th {\n",
       "        vertical-align: top;\n",
       "    }\n",
       "\n",
       "    .dataframe thead th {\n",
       "        text-align: right;\n",
       "    }\n",
       "</style>\n",
       "<table border=\"1\" class=\"dataframe\">\n",
       "  <thead>\n",
       "    <tr style=\"text-align: right;\">\n",
       "      <th></th>\n",
       "      <th>longitude</th>\n",
       "      <th>latitude</th>\n",
       "      <th>z_grade</th>\n",
       "      <th>Total Elevation</th>\n",
       "      <th>Actual Elevation</th>\n",
       "      <th>Feat_Code</th>\n",
       "    </tr>\n",
       "  </thead>\n",
       "  <tbody>\n",
       "    <tr>\n",
       "      <th>25</th>\n",
       "      <td>-73.930310</td>\n",
       "      <td>40.754337</td>\n",
       "      <td>13.840880</td>\n",
       "      <td>25.827324</td>\n",
       "      <td>11.986444</td>\n",
       "      <td>3020</td>\n",
       "    </tr>\n",
       "    <tr>\n",
       "      <th>26</th>\n",
       "      <td>-73.926556</td>\n",
       "      <td>40.756115</td>\n",
       "      <td>14.684056</td>\n",
       "      <td>24.318522</td>\n",
       "      <td>9.634467</td>\n",
       "      <td>3020</td>\n",
       "    </tr>\n",
       "    <tr>\n",
       "      <th>29</th>\n",
       "      <td>-73.944877</td>\n",
       "      <td>40.809825</td>\n",
       "      <td>8.923229</td>\n",
       "      <td>22.087472</td>\n",
       "      <td>13.164243</td>\n",
       "      <td>3020</td>\n",
       "    </tr>\n",
       "    <tr>\n",
       "      <th>30</th>\n",
       "      <td>-73.941198</td>\n",
       "      <td>40.808671</td>\n",
       "      <td>7.995735</td>\n",
       "      <td>28.066493</td>\n",
       "      <td>20.070757</td>\n",
       "      <td>3020</td>\n",
       "    </tr>\n",
       "    <tr>\n",
       "      <th>33</th>\n",
       "      <td>-73.911906</td>\n",
       "      <td>40.822514</td>\n",
       "      <td>9.902231</td>\n",
       "      <td>43.235523</td>\n",
       "      <td>33.333292</td>\n",
       "      <td>3020</td>\n",
       "    </tr>\n",
       "  </tbody>\n",
       "</table>\n",
       "</div>"
      ],
      "text/plain": [
       "    longitude   latitude    z_grade  Total Elevation  Actual Elevation  \\\n",
       "25 -73.930310  40.754337  13.840880        25.827324         11.986444   \n",
       "26 -73.926556  40.756115  14.684056        24.318522          9.634467   \n",
       "29 -73.944877  40.809825   8.923229        22.087472         13.164243   \n",
       "30 -73.941198  40.808671   7.995735        28.066493         20.070757   \n",
       "33 -73.911906  40.822514   9.902231        43.235523         33.333292   \n",
       "\n",
       "    Feat_Code  \n",
       "25       3020  \n",
       "26       3020  \n",
       "29       3020  \n",
       "30       3020  \n",
       "33       3020  "
      ]
     },
     "execution_count": 55,
     "metadata": {},
     "output_type": "execute_result"
    }
   ],
   "source": [
    "# Extract coordinates from filtered_elevation and filtered_elevation_2_building\n",
    "coords_elevation = np.array(list(zip(filtered_elevation['longitude'], filtered_elevation['latitude'])))\n",
    "coords_elevation_2 = np.array(list(zip(filtered_elevation_2['geometry'].apply(lambda geom: geom.x), filtered_elevation_2['geometry'].apply(lambda geom: geom.y))))\n",
    "\n",
    "# Create a KDTree for filtered_elevation_2_building\n",
    "tree_elevation_2 = cKDTree(coords_elevation_2)\n",
    "\n",
    "# Query the KDTree to find the nearest neighbors in filtered_elevation_2_building for each point in filtered_elevation\n",
    "distances, indices = tree_elevation_2.query(coords_elevation, k=1)\n",
    "\n",
    "# Compute the difference in elevation\n",
    "elevation_difference = filtered_elevation_2.iloc[indices]['ELEVATION'].values - filtered_elevation['z_grade'].values\n",
    "\n",
    "# Create a new dataframe with the required columns\n",
    "elevation_df = pd.DataFrame({\n",
    "    'longitude': filtered_elevation['longitude'],\n",
    "    'latitude': filtered_elevation['latitude'],\n",
    "    'z_grade': filtered_elevation['z_grade'],\n",
    "    'Total Elevation': filtered_elevation_2['ELEVATION'].values[indices],\n",
    "    'Actual Elevation': elevation_difference,\n",
    "    'Feat_Code': filtered_elevation_2.iloc[indices]['FEAT_CODE'].values\n",
    "})\n",
    "\n",
    "# Display the new dataframe\n",
    "elevation_df.head()"
   ]
  },
  {
   "cell_type": "code",
   "execution_count": 56,
   "metadata": {},
   "outputs": [],
   "source": [
    "# Filter the data to only include instances where FEAT_CODE is 3020 for buildings\n",
    "elevation_df_building = elevation_df[elevation_df['Feat_Code'] == 3020]\n",
    "# Filter the data to only include instances where FEAT_CODE is 3010 for water\n",
    "filtered_elevation_2_water = filtered_elevation_2[filtered_elevation_2['FEAT_CODE'] == 3010]\n",
    "# Filter the data to only include instances where FEAT_CODE is 3000 for Spot/Bridge\n",
    "filtered_elevation_2_bridge = filtered_elevation_2[filtered_elevation_2['FEAT_CODE'] == 3000]"
   ]
  },
  {
   "cell_type": "markdown",
   "metadata": {},
   "source": [
    "Here are the majority datasets:\n",
    "- filtered_zip_code: This includes the stations and where they are located in our region of interest using zip codes.\n",
    "- filtered_shoreline: This includes the location of the shoreline given longitude and latitude.\n",
    "- filtered_elevation: This gives the grade starting point of elevation that every building is at.\n",
    "- filtered_elevation_2: This includes the planimetric data that houses the total elevation for buildings, water, bridges, and more.\n",
    "- filtered_city_map: This showcases the interesections, corners, and squares along with where they are located in our region. \n",
    "- elevation_df: This includes the difference that gives the actual elevation of a building.\n",
    "- elevation_df_building: This specifies to only select buildings.\n",
    "- filtered_elevation_2_water: This specifies to only select the elevation of water that is found from the planimeric data.\n",
    "- filtered_elevation_2_bridge: This specifies to only select the elevatino of bridges and others that is found from the planimetric data."
   ]
  },
  {
   "cell_type": "markdown",
   "metadata": {},
   "source": [
    "### Socioeconomic Data"
   ]
  },
  {
   "cell_type": "code",
   "execution_count": 59,
   "metadata": {},
   "outputs": [],
   "source": [
    "# Define the socioeconomic column names\n",
    "Sex_Age = ['Total Population','Male','Female','Under 5 years','5 to 9 years','10 to 14 years','15 to 19 years','20 to 24 years','25 to 34 years','35 to 44 years','45 to 54 years','55 to 59 years','60 to 64 years','65 to 74 years','75 to 84 years','85 years and over','Median age (years)']\n",
    "Race = ['Total Population','White','Black or African American','American Indian and Alaska Native','Cherokee tribal grouping','Chippewa tribal grouping','Navajo tribal grouping','Sioux tribal grouping','Asian','Asian Idian','Chinese','Flipino','Japanese','Korean','Vietnamese','Other Asian','Native Hawaiian and Other Pacific Islander','Native Hawaiian','Guamanian or Chamorro','Samoan','Other Pacific Islander','Some other race','Hispanic or Latino (of any race)','Mexican','Puerto Rican','Cuban','Ohter Hispanic or Latino']\n",
    "Housing = ['Total housing units']\n",
    "Citizen = ['Citizen, 18 and over population']"
   ]
  },
  {
   "cell_type": "markdown",
   "metadata": {},
   "source": [
    "Build out two clusters of data relating to the socioeconomic implications for Manhattan versus Bronx."
   ]
  },
  {
   "cell_type": "markdown",
   "metadata": {},
   "source": [
    "# Clustering:"
   ]
  },
  {
   "cell_type": "markdown",
   "metadata": {},
   "source": [
    "We are hoping to cluster points by their groups of location within a certain area. This is based on the avearges, zip codes, or other features. "
   ]
  },
  {
   "cell_type": "markdown",
   "metadata": {},
   "source": [
    "Actual elevation by a certain cluster that pulls the average height of that cluster for the model in different areas."
   ]
  }
 ],
 "metadata": {
  "kernelspec": {
   "display_name": ".venv",
   "language": "python",
   "name": "python3"
  },
  "language_info": {
   "codemirror_mode": {
    "name": "ipython",
    "version": 3
   },
   "file_extension": ".py",
   "mimetype": "text/x-python",
   "name": "python",
   "nbconvert_exporter": "python",
   "pygments_lexer": "ipython3",
   "version": "3.12.9"
  }
 },
 "nbformat": 4,
 "nbformat_minor": 2
}
